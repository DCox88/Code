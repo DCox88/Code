{
 "cells": [
  {
   "cell_type": "markdown",
   "metadata": {},
   "source": [
    "Basics"
   ]
  },
  {
   "cell_type": "code",
   "execution_count": 1,
   "metadata": {},
   "outputs": [
    {
     "name": "stdout",
     "output_type": "stream",
     "text": [
      "4\n"
     ]
    }
   ],
   "source": [
    "# Use a hash to comment\n",
    "# must put print() to return an output\n",
    "print (2 + 2)"
   ]
  },
  {
   "cell_type": "raw",
   "metadata": {},
   "source": [
    "Variables and Types"
   ]
  },
  {
   "cell_type": "code",
   "execution_count": 2,
   "metadata": {},
   "outputs": [
    {
     "data": {
      "text/plain": [
       "int"
      ]
     },
     "execution_count": 2,
     "metadata": {},
     "output_type": "execute_result"
    }
   ],
   "source": [
    "# create a vairable using =\n",
    "savings = 100\n",
    "# Return the data type of a variable\n",
    "type(savings)"
   ]
  },
  {
   "cell_type": "code",
   "execution_count": 11,
   "metadata": {},
   "outputs": [
    {
     "name": "stdout",
     "output_type": "stream",
     "text": [
      "3\n",
      "xy\n"
     ]
    }
   ],
   "source": [
    "# Data types can be int (whole number), float (decimal), boolean (true/false) or string (characters)\n",
    "# Different types will behave differently\n",
    "a = 1\n",
    "b = 2\n",
    "c = \"x\"\n",
    "d = \"y\"\n",
    "# Adding ints together does additon\n",
    "print(a + b)\n",
    "# Adding strings together concatenates them\n",
    "print(c + d)"
   ]
  },
  {
   "cell_type": "code",
   "execution_count": 10,
   "metadata": {},
   "outputs": [
    {
     "name": "stdout",
     "output_type": "stream",
     "text": [
      "<class 'str'>\n"
     ]
    }
   ],
   "source": [
    "# Can convert between different data types using:\n",
    "int()\n",
    "str()\n",
    "float()\n",
    "bool()\n",
    "# Example\n",
    "str_a = str(a)\n",
    "print(type(str_a))"
   ]
  },
  {
   "cell_type": "markdown",
   "metadata": {},
   "source": [
    "Python Lists"
   ]
  },
  {
   "cell_type": "code",
   "execution_count": 1,
   "metadata": {},
   "outputs": [
    {
     "name": "stdout",
     "output_type": "stream",
     "text": [
      "[11.25, 18.0, 20.0, 10.75, 9.5]\n"
     ]
    }
   ],
   "source": [
    "# Compound data type that groups items together\n",
    "# area variables (in square meters)\n",
    "hall = 11.25\n",
    "kit = 18.0\n",
    "liv = 20.0\n",
    "bed = 10.75\n",
    "bath = 9.50\n",
    "\n",
    "# Create list areas\n",
    "areas = [hall, kit, liv, bed, bath]\n",
    "\n",
    "# Print areas\n",
    "print(areas)"
   ]
  },
  {
   "cell_type": "code",
   "execution_count": 2,
   "metadata": {},
   "outputs": [
    {
     "name": "stdout",
     "output_type": "stream",
     "text": [
      "['hallway', 11.25, 'kitchen', 18.0, 'living room', 20.0, 'bedroom', 10.75, 'bathroom', 9.5]\n"
     ]
    }
   ],
   "source": [
    "# Lists can be made up of different data types\n",
    "areas_2 = [\"hallway\", hall, \"kitchen\", kit, \"living room\", liv, \"bedroom\", bed, \"bathroom\", bath]\n",
    "print(areas_2)"
   ]
  },
  {
   "cell_type": "code",
   "execution_count": 3,
   "metadata": {},
   "outputs": [
    {
     "name": "stdout",
     "output_type": "stream",
     "text": [
      "[['hallway', 11.25], ['kitchen', 18.0], ['living room', 20.0], ['bedroom', 10.75], ['bathroom', 9.5]]\n",
      "<class 'list'>\n"
     ]
    }
   ],
   "source": [
    "# Can have a list within a list\n",
    "house = [[\"hallway\", hall],\n",
    "         [\"kitchen\", kit],\n",
    "         [\"living room\", liv],\n",
    "         [\"bedroom\", bed],\n",
    "         [\"bathroom\", bath]]\n",
    "print(house)\n",
    "print(type(house))"
   ]
  },
  {
   "cell_type": "code",
   "execution_count": 5,
   "metadata": {},
   "outputs": [
    {
     "name": "stdout",
     "output_type": "stream",
     "text": [
      "18.0\n",
      "9.5\n"
     ]
    }
   ],
   "source": [
    "# Subetting from  a list can be done using Zero index (first entry in list is 0)\n",
    "# Select the 2nd entry\n",
    "print(areas[1])\n",
    "# Can also use negative index (count backwars)\n",
    "# Select last entry in list\n",
    "print(areas[-1])"
   ]
  },
  {
   "cell_type": "code",
   "execution_count": 11,
   "metadata": {},
   "outputs": [
    {
     "name": "stdout",
     "output_type": "stream",
     "text": [
      "['hallway', 11.25, 'kitchen', 18.0, 'living room', 20.0]\n",
      "['bedroom', 10.75, 'bathroom', 9.5]\n"
     ]
    }
   ],
   "source": [
    "# Slice a list by selecting multiple values from it\n",
    "# The start is inclusive and the end is exclusive\n",
    "# areas [1:3], will select the 2nd and 3rd entry, not the 4th\n",
    "downstairs = areas_2[0:6]\n",
    "upstairs = areas_2[6:10]\n",
    "print(downstairs)\n",
    "print(upstairs)"
   ]
  },
  {
   "cell_type": "code",
   "execution_count": 13,
   "metadata": {},
   "outputs": [
    {
     "name": "stdout",
     "output_type": "stream",
     "text": [
      "['hallway', 11.25, 'kitchen', 18.0, 'living room', 20.0]\n",
      "['bedroom', 10.75, 'bathroom', 9.5]\n"
     ]
    }
   ],
   "source": [
    "# Not including an end vwill continue to end\n",
    "# Not including start will start from first\n",
    "# Therefore the above can also be sliced as\n",
    "downstairs_2 = areas_2[:6]\n",
    "upstairs_2 = areas_2[6:]\n",
    "print(downstairs_2)\n",
    "print(upstairs_2)"
   ]
  },
  {
   "cell_type": "code",
   "execution_count": 14,
   "metadata": {},
   "outputs": [
    {
     "data": {
      "text/plain": [
       "9.5"
      ]
     },
     "execution_count": 14,
     "metadata": {},
     "output_type": "execute_result"
    }
   ],
   "source": [
    "# Can subset a list that contains a list\n",
    "# The below will return the last list, then the 2nd entry within that sub-list i.e bathroom area\n",
    "house[-1][1]"
   ]
  },
  {
   "cell_type": "code",
   "execution_count": 15,
   "metadata": {},
   "outputs": [
    {
     "name": "stdout",
     "output_type": "stream",
     "text": [
      "['hallway', 11.25, 'kitchen', 18.0, 'living room', 20.0, 'bedroom', 10.75, 'bathroom', 9.5]\n",
      "['hallway', 11.25, 'kitchen', 18.0, 'chill zone', 20.0, 'bedroom', 10.75, 'bathroom', 10.5]\n"
     ]
    }
   ],
   "source": [
    "# Replace list elements by subsetting list and assigning new values\n",
    "print(areas_2)\n",
    "# Changes the bathroom area to 10.5\n",
    "areas_2[-1] = 10.5\n",
    "# Change \"living room\" to \"chill zone\"\n",
    "areas_2[4] = \"chill zone\"\n",
    "print(areas_2)"
   ]
  },
  {
   "cell_type": "code",
   "execution_count": 16,
   "metadata": {},
   "outputs": [
    {
     "name": "stdout",
     "output_type": "stream",
     "text": [
      "['hallway', 11.25, 'kitchen', 18.0, 'chill zone', 20.0, 'bedroom', 10.75, 'bathroom', 10.5, 'poolhouse', 24.5]\n",
      "['hallway', 11.25, 'kitchen', 18.0, 'chill zone', 20.0, 'bedroom', 10.75, 'bathroom', 10.5, 'poolhouse', 24.5, 'garage', 14.45]\n"
     ]
    }
   ],
   "source": [
    "# Add elements to list using + operator\n",
    "# Create a new list and add on poolhouse\n",
    "areas_3 = areas_2 + [\"poolhouse\", 24.5]\n",
    "# Create new list and add on garage\n",
    "areas_4 = areas_3 + [\"garage\", 14.45]\n",
    "\n",
    "print(areas_3)\n",
    "print(areas_4)\n"
   ]
  },
  {
   "cell_type": "code",
   "execution_count": 21,
   "metadata": {},
   "outputs": [
    {
     "name": "stdout",
     "output_type": "stream",
     "text": [
      "['hallway', 11.25, 'kitchen', 18.0, 'chill zone', 20.0, 'bedroom', 10.75, 'bathroom', 10.5, 'poolhouse', 24.5, 'garage', 14.45]\n",
      "['hallway', 11.25, 'kitchen', 18.0, 'chill zone', 20.0, 'bedroom', 10.75, 'bathroom', 10.5, 24.5, 14.45]\n"
     ]
    }
   ],
   "source": [
    "# Can use the del to remove elements\n",
    "# Be careful, as soon as you delete an element the index changes\n",
    "# Exmaple trying to remove poolhouse from areas_4\n",
    "areas_5 = list(areas_4)\n",
    "print(areas_5)\n",
    "del(areas_5[10]);del(areas_5[11]) #semicolon allows two commands on same line\n",
    "print(areas_5)\n",
    "# See output to see how this is wrong!"
   ]
  },
  {
   "cell_type": "code",
   "execution_count": 28,
   "metadata": {},
   "outputs": [
    {
     "name": "stdout",
     "output_type": "stream",
     "text": [
      "['hallway', 11.25, 'kitchen', 18.0, 'chill zone', 20.0, 'bedroom', 10.75, 'bathroom', 10.5, 'poolhouse', 24.5, 'garage', 14.45]\n",
      "['hallway', 11.25, 'kitchen', 18.0, 'chill zone', 20.0, 'bedroom', 10.75, 'bathroom', 10.5, 'garage', 14.45]\n",
      "['hallway', 11.25, 'kitchen', 18.0, 'chill zone', 20.0, 'bedroom', 10.75, 'bathroom', 10.5, 'garage', 14.45]\n",
      "['hallway', 11.25, 'kitchen', 18.0, 'chill zone', 20.0, 'bedroom', 10.75, 'bathroom', 10.5, 'garage', 14.45]\n"
     ]
    }
   ],
   "source": [
    "# Correct Ways of doing above\n",
    "areas_6 = list(areas_4)\n",
    "print(areas_6)\n",
    "del(areas_6[10:12])\n",
    "print(areas_6)\n",
    "# Or\n",
    "areas_7= list(areas_4)\n",
    "del(areas_7[10]);del(areas_7[10])\n",
    "print(areas_7)\n",
    "# Or\n",
    "areas_8 = areas_4[:] #another way of assigning the list\n",
    "del(areas_8[-4:-2])\n",
    "print(areas_8)"
   ]
  },
  {
   "cell_type": "code",
   "execution_count": 29,
   "metadata": {},
   "outputs": [
    {
     "name": "stdout",
     "output_type": "stream",
     "text": [
      "[1, 3]\n",
      "[1, 3]\n"
     ]
    }
   ],
   "source": [
    "# If you dont assign lists this way and use =, both list refers to same orginal list\n",
    "# SO if update one the other changes as well\n",
    "x = [1,2,3]\n",
    "y = x\n",
    "del(y[1])\n",
    "print(y)\n",
    "print(x)"
   ]
  }
 ],
 "metadata": {
  "kernelspec": {
   "display_name": "Python 3",
   "language": "python",
   "name": "python3"
  },
  "language_info": {
   "codemirror_mode": {
    "name": "ipython",
    "version": 3
   },
   "file_extension": ".py",
   "mimetype": "text/x-python",
   "name": "python",
   "nbconvert_exporter": "python",
   "pygments_lexer": "ipython3",
   "version": "3.8.1"
  }
 },
 "nbformat": 4,
 "nbformat_minor": 4
}
